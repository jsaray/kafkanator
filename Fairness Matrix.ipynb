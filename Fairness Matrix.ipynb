{
 "cells": [
  {
   "cell_type": "code",
   "execution_count": 3,
   "id": "4fc8af41",
   "metadata": {},
   "outputs": [],
   "source": [
    "import pandas as pd\n",
    "import numpy as np\n",
    "from kafkanator import gini,lorentz_curve\n",
    "import matplotlib.pyplot as pyplt\n",
    "from plotly.subplots import make_subplots\n",
    "import plotly.graph_objects as go"
   ]
  },
  {
   "cell_type": "markdown",
   "id": "5287ce6d",
   "metadata": {},
   "source": [
    "<h1> Description </h1>\n",
    "<br/>\n",
    "This notebook assigns a discriminative score to the defined sensitive attributes of a population. For this example\n",
    "the population is a set of attributes corresponding to the artists of our coolsongs.com web app example.\n",
    "<br/>\n",
    "<br/>\n",
    "This discriminative score, gives you an idea of how fair your recommendation algorithm is doing with respect to those sensitive values.\n",
    "<br/>\n",
    "You could potentially use this notebook on any recommendation system making the tuning that every business need.\n",
    "You should have two data frames.\n",
    "<h2>Dataframe 1 :</h2> An  output list of recommendations for a query, as ranking comma separated (see rankings). The artist identificators in the ranking cant repeat.\n",
    "<h2>Dataframe 2 :</h2> The sensitive attributes of your population.(sens_attr)"
   ]
  },
  {
   "cell_type": "code",
   "execution_count": 4,
   "id": "7b6a7efd",
   "metadata": {},
   "outputs": [],
   "source": [
    "# Df and join are two dataframes "
   ]
  },
  {
   "cell_type": "code",
   "execution_count": 5,
   "id": "ff6fe6bc",
   "metadata": {},
   "outputs": [],
   "source": [
    "rankings = pd.read_csv('./data/ranking.csv',sep=',',header=0)\n",
    "sens_attr = pd.read_csv('./data/artist_join_sens_attr.csv',sep=',',header=0)"
   ]
  },
  {
   "cell_type": "code",
   "execution_count": 6,
   "id": "f6191f83",
   "metadata": {},
   "outputs": [
    {
     "data": {
      "text/html": [
       "<div>\n",
       "<style scoped>\n",
       "    .dataframe tbody tr th:only-of-type {\n",
       "        vertical-align: middle;\n",
       "    }\n",
       "\n",
       "    .dataframe tbody tr th {\n",
       "        vertical-align: top;\n",
       "    }\n",
       "\n",
       "    .dataframe thead th {\n",
       "        text-align: right;\n",
       "    }\n",
       "</style>\n",
       "<table border=\"1\" class=\"dataframe\">\n",
       "  <thead>\n",
       "    <tr style=\"text-align: right;\">\n",
       "      <th></th>\n",
       "      <th>query</th>\n",
       "      <th>Rankings</th>\n",
       "    </tr>\n",
       "  </thead>\n",
       "  <tbody>\n",
       "    <tr>\n",
       "      <th>0</th>\n",
       "      <td>1</td>\n",
       "      <td>2,5,7,10,12</td>\n",
       "    </tr>\n",
       "    <tr>\n",
       "      <th>1</th>\n",
       "      <td>2</td>\n",
       "      <td>1,6,7,5,8</td>\n",
       "    </tr>\n",
       "    <tr>\n",
       "      <th>2</th>\n",
       "      <td>3</td>\n",
       "      <td>5,7,9,10,12</td>\n",
       "    </tr>\n",
       "    <tr>\n",
       "      <th>3</th>\n",
       "      <td>4</td>\n",
       "      <td>14,5,10,2,1</td>\n",
       "    </tr>\n",
       "    <tr>\n",
       "      <th>4</th>\n",
       "      <td>5</td>\n",
       "      <td>2,8,9,10,1</td>\n",
       "    </tr>\n",
       "    <tr>\n",
       "      <th>5</th>\n",
       "      <td>6</td>\n",
       "      <td>4,6,7,9,10</td>\n",
       "    </tr>\n",
       "    <tr>\n",
       "      <th>6</th>\n",
       "      <td>7</td>\n",
       "      <td>13,5,9,15,16</td>\n",
       "    </tr>\n",
       "    <tr>\n",
       "      <th>7</th>\n",
       "      <td>8</td>\n",
       "      <td>17,5,6,18,1</td>\n",
       "    </tr>\n",
       "    <tr>\n",
       "      <th>8</th>\n",
       "      <td>9</td>\n",
       "      <td>1,2,3,4,5</td>\n",
       "    </tr>\n",
       "    <tr>\n",
       "      <th>9</th>\n",
       "      <td>10</td>\n",
       "      <td>20,19,18,17,14</td>\n",
       "    </tr>\n",
       "  </tbody>\n",
       "</table>\n",
       "</div>"
      ],
      "text/plain": [
       "   query        Rankings\n",
       "0      1     2,5,7,10,12\n",
       "1      2       1,6,7,5,8\n",
       "2      3     5,7,9,10,12\n",
       "3      4     14,5,10,2,1\n",
       "4      5      2,8,9,10,1\n",
       "5      6      4,6,7,9,10\n",
       "6      7    13,5,9,15,16\n",
       "7      8     17,5,6,18,1\n",
       "8      9       1,2,3,4,5\n",
       "9     10  20,19,18,17,14"
      ]
     },
     "execution_count": 6,
     "metadata": {},
     "output_type": "execute_result"
    }
   ],
   "source": [
    "rankings"
   ]
  },
  {
   "cell_type": "code",
   "execution_count": 7,
   "id": "c60530bb",
   "metadata": {},
   "outputs": [
    {
     "data": {
      "text/html": [
       "<div>\n",
       "<style scoped>\n",
       "    .dataframe tbody tr th:only-of-type {\n",
       "        vertical-align: middle;\n",
       "    }\n",
       "\n",
       "    .dataframe tbody tr th {\n",
       "        vertical-align: top;\n",
       "    }\n",
       "\n",
       "    .dataframe thead th {\n",
       "        text-align: right;\n",
       "    }\n",
       "</style>\n",
       "<table border=\"1\" class=\"dataframe\">\n",
       "  <thead>\n",
       "    <tr style=\"text-align: right;\">\n",
       "      <th></th>\n",
       "      <th>artist_id</th>\n",
       "      <th>age</th>\n",
       "      <th>gender</th>\n",
       "      <th>nationality</th>\n",
       "    </tr>\n",
       "  </thead>\n",
       "  <tbody>\n",
       "    <tr>\n",
       "      <th>0</th>\n",
       "      <td>1</td>\n",
       "      <td>20</td>\n",
       "      <td>M</td>\n",
       "      <td>national</td>\n",
       "    </tr>\n",
       "    <tr>\n",
       "      <th>1</th>\n",
       "      <td>2</td>\n",
       "      <td>52</td>\n",
       "      <td>F</td>\n",
       "      <td>foreign</td>\n",
       "    </tr>\n",
       "    <tr>\n",
       "      <th>2</th>\n",
       "      <td>3</td>\n",
       "      <td>36</td>\n",
       "      <td>M</td>\n",
       "      <td>national</td>\n",
       "    </tr>\n",
       "    <tr>\n",
       "      <th>3</th>\n",
       "      <td>4</td>\n",
       "      <td>25</td>\n",
       "      <td>F</td>\n",
       "      <td>foreign</td>\n",
       "    </tr>\n",
       "    <tr>\n",
       "      <th>4</th>\n",
       "      <td>5</td>\n",
       "      <td>67</td>\n",
       "      <td>M</td>\n",
       "      <td>national</td>\n",
       "    </tr>\n",
       "    <tr>\n",
       "      <th>5</th>\n",
       "      <td>6</td>\n",
       "      <td>45</td>\n",
       "      <td>F</td>\n",
       "      <td>foreign</td>\n",
       "    </tr>\n",
       "    <tr>\n",
       "      <th>6</th>\n",
       "      <td>7</td>\n",
       "      <td>59</td>\n",
       "      <td>M</td>\n",
       "      <td>national</td>\n",
       "    </tr>\n",
       "    <tr>\n",
       "      <th>7</th>\n",
       "      <td>8</td>\n",
       "      <td>23</td>\n",
       "      <td>F</td>\n",
       "      <td>foreign</td>\n",
       "    </tr>\n",
       "    <tr>\n",
       "      <th>8</th>\n",
       "      <td>9</td>\n",
       "      <td>18</td>\n",
       "      <td>M</td>\n",
       "      <td>national</td>\n",
       "    </tr>\n",
       "    <tr>\n",
       "      <th>9</th>\n",
       "      <td>10</td>\n",
       "      <td>56</td>\n",
       "      <td>F</td>\n",
       "      <td>foreign</td>\n",
       "    </tr>\n",
       "    <tr>\n",
       "      <th>10</th>\n",
       "      <td>11</td>\n",
       "      <td>64</td>\n",
       "      <td>M</td>\n",
       "      <td>national</td>\n",
       "    </tr>\n",
       "    <tr>\n",
       "      <th>11</th>\n",
       "      <td>12</td>\n",
       "      <td>35</td>\n",
       "      <td>F</td>\n",
       "      <td>foreign</td>\n",
       "    </tr>\n",
       "    <tr>\n",
       "      <th>12</th>\n",
       "      <td>13</td>\n",
       "      <td>38</td>\n",
       "      <td>M</td>\n",
       "      <td>national</td>\n",
       "    </tr>\n",
       "    <tr>\n",
       "      <th>13</th>\n",
       "      <td>14</td>\n",
       "      <td>63</td>\n",
       "      <td>F</td>\n",
       "      <td>foreign</td>\n",
       "    </tr>\n",
       "    <tr>\n",
       "      <th>14</th>\n",
       "      <td>15</td>\n",
       "      <td>41</td>\n",
       "      <td>M</td>\n",
       "      <td>national</td>\n",
       "    </tr>\n",
       "    <tr>\n",
       "      <th>15</th>\n",
       "      <td>16</td>\n",
       "      <td>72</td>\n",
       "      <td>F</td>\n",
       "      <td>national</td>\n",
       "    </tr>\n",
       "    <tr>\n",
       "      <th>16</th>\n",
       "      <td>17</td>\n",
       "      <td>20</td>\n",
       "      <td>M</td>\n",
       "      <td>national</td>\n",
       "    </tr>\n",
       "    <tr>\n",
       "      <th>17</th>\n",
       "      <td>18</td>\n",
       "      <td>19</td>\n",
       "      <td>F</td>\n",
       "      <td>national</td>\n",
       "    </tr>\n",
       "    <tr>\n",
       "      <th>18</th>\n",
       "      <td>19</td>\n",
       "      <td>29</td>\n",
       "      <td>M</td>\n",
       "      <td>national</td>\n",
       "    </tr>\n",
       "    <tr>\n",
       "      <th>19</th>\n",
       "      <td>20</td>\n",
       "      <td>46</td>\n",
       "      <td>F</td>\n",
       "      <td>national</td>\n",
       "    </tr>\n",
       "  </tbody>\n",
       "</table>\n",
       "</div>"
      ],
      "text/plain": [
       "    artist_id  age gender nationality\n",
       "0           1   20      M    national\n",
       "1           2   52      F     foreign\n",
       "2           3   36      M    national\n",
       "3           4   25      F     foreign\n",
       "4           5   67      M    national\n",
       "5           6   45      F     foreign\n",
       "6           7   59      M    national\n",
       "7           8   23      F     foreign\n",
       "8           9   18      M    national\n",
       "9          10   56      F     foreign\n",
       "10         11   64      M    national\n",
       "11         12   35      F     foreign\n",
       "12         13   38      M    national\n",
       "13         14   63      F     foreign\n",
       "14         15   41      M    national\n",
       "15         16   72      F    national\n",
       "16         17   20      M    national\n",
       "17         18   19      F    national\n",
       "18         19   29      M    national\n",
       "19         20   46      F    national"
      ]
     },
     "execution_count": 7,
     "metadata": {},
     "output_type": "execute_result"
    }
   ],
   "source": [
    "sens_attr"
   ]
  },
  {
   "cell_type": "code",
   "execution_count": 8,
   "id": "410cc9e1",
   "metadata": {},
   "outputs": [],
   "source": [
    "sensitive_attributes = [ 'nationality','gender' ]\n",
    "id_column = 'artist_id'"
   ]
  },
  {
   "cell_type": "code",
   "execution_count": 9,
   "id": "dd1ac85c",
   "metadata": {},
   "outputs": [],
   "source": [
    "sensitive_columns = sens_attr[sensitive_attributes].merge(sens_attr[id_column].to_frame(),left_index=True, right_index=True)"
   ]
  },
  {
   "cell_type": "code",
   "execution_count": 10,
   "id": "d5852dc0",
   "metadata": {},
   "outputs": [
    {
     "data": {
      "text/html": [
       "<div>\n",
       "<style scoped>\n",
       "    .dataframe tbody tr th:only-of-type {\n",
       "        vertical-align: middle;\n",
       "    }\n",
       "\n",
       "    .dataframe tbody tr th {\n",
       "        vertical-align: top;\n",
       "    }\n",
       "\n",
       "    .dataframe thead th {\n",
       "        text-align: right;\n",
       "    }\n",
       "</style>\n",
       "<table border=\"1\" class=\"dataframe\">\n",
       "  <thead>\n",
       "    <tr style=\"text-align: right;\">\n",
       "      <th></th>\n",
       "      <th>nationality</th>\n",
       "      <th>gender</th>\n",
       "      <th>artist_id</th>\n",
       "    </tr>\n",
       "  </thead>\n",
       "  <tbody>\n",
       "    <tr>\n",
       "      <th>0</th>\n",
       "      <td>national</td>\n",
       "      <td>M</td>\n",
       "      <td>1</td>\n",
       "    </tr>\n",
       "    <tr>\n",
       "      <th>1</th>\n",
       "      <td>foreign</td>\n",
       "      <td>F</td>\n",
       "      <td>2</td>\n",
       "    </tr>\n",
       "    <tr>\n",
       "      <th>2</th>\n",
       "      <td>national</td>\n",
       "      <td>M</td>\n",
       "      <td>3</td>\n",
       "    </tr>\n",
       "    <tr>\n",
       "      <th>3</th>\n",
       "      <td>foreign</td>\n",
       "      <td>F</td>\n",
       "      <td>4</td>\n",
       "    </tr>\n",
       "    <tr>\n",
       "      <th>4</th>\n",
       "      <td>national</td>\n",
       "      <td>M</td>\n",
       "      <td>5</td>\n",
       "    </tr>\n",
       "    <tr>\n",
       "      <th>5</th>\n",
       "      <td>foreign</td>\n",
       "      <td>F</td>\n",
       "      <td>6</td>\n",
       "    </tr>\n",
       "    <tr>\n",
       "      <th>6</th>\n",
       "      <td>national</td>\n",
       "      <td>M</td>\n",
       "      <td>7</td>\n",
       "    </tr>\n",
       "    <tr>\n",
       "      <th>7</th>\n",
       "      <td>foreign</td>\n",
       "      <td>F</td>\n",
       "      <td>8</td>\n",
       "    </tr>\n",
       "    <tr>\n",
       "      <th>8</th>\n",
       "      <td>national</td>\n",
       "      <td>M</td>\n",
       "      <td>9</td>\n",
       "    </tr>\n",
       "    <tr>\n",
       "      <th>9</th>\n",
       "      <td>foreign</td>\n",
       "      <td>F</td>\n",
       "      <td>10</td>\n",
       "    </tr>\n",
       "    <tr>\n",
       "      <th>10</th>\n",
       "      <td>national</td>\n",
       "      <td>M</td>\n",
       "      <td>11</td>\n",
       "    </tr>\n",
       "    <tr>\n",
       "      <th>11</th>\n",
       "      <td>foreign</td>\n",
       "      <td>F</td>\n",
       "      <td>12</td>\n",
       "    </tr>\n",
       "    <tr>\n",
       "      <th>12</th>\n",
       "      <td>national</td>\n",
       "      <td>M</td>\n",
       "      <td>13</td>\n",
       "    </tr>\n",
       "    <tr>\n",
       "      <th>13</th>\n",
       "      <td>foreign</td>\n",
       "      <td>F</td>\n",
       "      <td>14</td>\n",
       "    </tr>\n",
       "    <tr>\n",
       "      <th>14</th>\n",
       "      <td>national</td>\n",
       "      <td>M</td>\n",
       "      <td>15</td>\n",
       "    </tr>\n",
       "    <tr>\n",
       "      <th>15</th>\n",
       "      <td>national</td>\n",
       "      <td>F</td>\n",
       "      <td>16</td>\n",
       "    </tr>\n",
       "    <tr>\n",
       "      <th>16</th>\n",
       "      <td>national</td>\n",
       "      <td>M</td>\n",
       "      <td>17</td>\n",
       "    </tr>\n",
       "    <tr>\n",
       "      <th>17</th>\n",
       "      <td>national</td>\n",
       "      <td>F</td>\n",
       "      <td>18</td>\n",
       "    </tr>\n",
       "    <tr>\n",
       "      <th>18</th>\n",
       "      <td>national</td>\n",
       "      <td>M</td>\n",
       "      <td>19</td>\n",
       "    </tr>\n",
       "    <tr>\n",
       "      <th>19</th>\n",
       "      <td>national</td>\n",
       "      <td>F</td>\n",
       "      <td>20</td>\n",
       "    </tr>\n",
       "  </tbody>\n",
       "</table>\n",
       "</div>"
      ],
      "text/plain": [
       "   nationality gender  artist_id\n",
       "0     national      M          1\n",
       "1      foreign      F          2\n",
       "2     national      M          3\n",
       "3      foreign      F          4\n",
       "4     national      M          5\n",
       "5      foreign      F          6\n",
       "6     national      M          7\n",
       "7      foreign      F          8\n",
       "8     national      M          9\n",
       "9      foreign      F         10\n",
       "10    national      M         11\n",
       "11     foreign      F         12\n",
       "12    national      M         13\n",
       "13     foreign      F         14\n",
       "14    national      M         15\n",
       "15    national      F         16\n",
       "16    national      M         17\n",
       "17    national      F         18\n",
       "18    national      M         19\n",
       "19    national      F         20"
      ]
     },
     "execution_count": 10,
     "metadata": {},
     "output_type": "execute_result"
    }
   ],
   "source": [
    "sensitive_columns"
   ]
  },
  {
   "cell_type": "markdown",
   "id": "b08b6bc0",
   "metadata": {},
   "source": [
    "<h1> Score hash initialization </h1>\n",
    "<br/>\n",
    "This loop initializes a dictionnary containing keys as column names and values dictionnaries of each possible value in the column. For the moment it only works with categorical variables."
   ]
  },
  {
   "cell_type": "code",
   "execution_count": 11,
   "id": "162df9a0",
   "metadata": {},
   "outputs": [],
   "source": [
    "counters_sens_attributes = {}\n",
    "for s in sensitive_attributes: \n",
    "    theKeys = set(sensitive_columns[s])\n",
    "    theValues = 0\n",
    "    senses_dict = dict.fromkeys(theKeys, theValues)\n",
    "    counters_sens_attributes[s] = senses_dict"
   ]
  },
  {
   "cell_type": "code",
   "execution_count": 12,
   "id": "6d03a108",
   "metadata": {},
   "outputs": [
    {
     "data": {
      "text/plain": [
       "{'nationality': {'foreign': 0, 'national': 0}, 'gender': {'F': 0, 'M': 0}}"
      ]
     },
     "execution_count": 12,
     "metadata": {},
     "output_type": "execute_result"
    }
   ],
   "source": [
    "counters_sens_attributes"
   ]
  },
  {
   "cell_type": "markdown",
   "id": "71203159",
   "metadata": {},
   "source": [
    "<h1>Score hash algorithm</h1>"
   ]
  },
  {
   "cell_type": "markdown",
   "id": "263cedf9",
   "metadata": {},
   "source": [
    "<i>sensitive_columns</i> dataframe contains the sensitive information (information that could be source of discrimination) in the artist population that is making the content generation for the example web app coolsongs.com.\n",
    "<br/>\n",
    "<br/>\n",
    "As a general description, <b>algorithm 2</b> parses each line of the rankings dataframe, each line is a comma-separated string containing a list of artist identifiers, as is a ranking, the order is important meaning that the first position is somehow more important than the second according to a business defined score.\n",
    "\n",
    "The idea is, for each artist k in a dataset containing n artists, the artist recommended score (RA) will compute how recommended this artist is by computing.\n",
    "<br/>\n",
    "<br/>\n",
    "<center>$RA_k$ = $ \\sum_{i=1}^{n} (  N - pos_i(Artist_k) ) $.</center>\n",
    "\n",
    "Being pos(Artist) the position of the artist in the list located in row i.\n",
    "\n",
    "The artist recommended score $RA_k$ can be splitted over the values of a categorical sensitive column :\n",
    "So for a sensitive categorical column S that could be any of Sj possibilities $\\{S_1,S_2,S_3, ... , S_p\\}$\n",
    "we have :\n",
    "<center>$SC_j = \\sum_{i=1}^{n} ( if Artist_k(S) == S_j  : N - pos_i(Artist_k) ) $.</center>\n",
    "And you must have : \n",
    "<br/>\n",
    "<br/>\n",
    "<center> $\\sum_{j=1}^{n} ( SC_j ) = \\sum_{j=1}^{n} ( if Artist_k(S) == j : RA_k ) $ [2] </center> \n",
    "<br/>\n",
    "<br/>\n",
    "The summatory results will be stored in <i>rock_artist</i> variable."
   ]
  },
  {
   "cell_type": "markdown",
   "id": "f9dca024",
   "metadata": {},
   "source": [
    "<b> Algorithm 2 : Recommended Score computing . $( RA_k )$, output is stored in rock_artists. </b>"
   ]
  },
  {
   "cell_type": "code",
   "execution_count": 13,
   "id": "4dc61b9b",
   "metadata": {},
   "outputs": [
    {
     "name": "stdout",
     "output_type": "stream",
     "text": [
      "[(5, '2'), (4, '5'), (3, '7'), (2, '10'), (1, '12')]\n",
      "[(5, '1'), (4, '6'), (3, '7'), (2, '5'), (1, '8')]\n",
      "[(5, '5'), (4, '7'), (3, '9'), (2, '10'), (1, '12')]\n",
      "[(5, '14'), (4, '5'), (3, '10'), (2, '2'), (1, '1')]\n",
      "[(5, '2'), (4, '8'), (3, '9'), (2, '10'), (1, '1')]\n",
      "[(5, '4'), (4, '6'), (3, '7'), (2, '9'), (1, '10')]\n",
      "[(5, '13'), (4, '5'), (3, '9'), (2, '15'), (1, '16')]\n",
      "[(5, '17'), (4, '5'), (3, '6'), (2, '18'), (1, '1')]\n",
      "[(5, '1'), (4, '2'), (3, '3'), (2, '4'), (1, '5')]\n",
      "[(5, '20'), (4, '19'), (3, '18'), (2, '17'), (1, '14')]\n"
     ]
    }
   ],
   "source": [
    "rock_artists = {}\n",
    "for i in range(1,21):\n",
    "    rock_artists[i] = 0\n",
    "# Take the ranking column\n",
    "for r in rankings[\"Rankings\"].values:\n",
    "    seq = r.split(',')\n",
    "    # Take each position of the ranking, find the artist id and add\n",
    "    # that score, the same for each sensitive artist attribute.\n",
    "    N = len(seq)\n",
    "    scoring = list(range(1,N+1))\n",
    "    scoring.reverse()\n",
    "    together = list(zip(scoring,seq))\n",
    "    print(together)\n",
    "    for (pos,s) in together:\n",
    "        rock_artists[int(s)] = rock_artists[int(s)] + pos\n",
    "        for a in sensitive_attributes:\n",
    "            value_of_attribute = sensitive_columns[sensitive_columns[id_column]==int(s)][a] \n",
    "            counters_sens_attributes[a][ value_of_attribute.item() ] = counters_sens_attributes [  a  ][ value_of_attribute.item() ] + pos"
   ]
  },
  {
   "cell_type": "code",
   "execution_count": 14,
   "id": "882cb044",
   "metadata": {},
   "outputs": [
    {
     "data": {
      "text/plain": [
       "{1: 13,\n",
       " 2: 16,\n",
       " 3: 3,\n",
       " 4: 7,\n",
       " 5: 24,\n",
       " 6: 11,\n",
       " 7: 13,\n",
       " 8: 5,\n",
       " 9: 11,\n",
       " 10: 10,\n",
       " 11: 0,\n",
       " 12: 2,\n",
       " 13: 5,\n",
       " 14: 6,\n",
       " 15: 2,\n",
       " 16: 1,\n",
       " 17: 7,\n",
       " 18: 5,\n",
       " 19: 4,\n",
       " 20: 5}"
      ]
     },
     "execution_count": 14,
     "metadata": {},
     "output_type": "execute_result"
    }
   ],
   "source": [
    "rock_artists"
   ]
  },
  {
   "cell_type": "markdown",
   "id": "c34d4dad",
   "metadata": {},
   "source": [
    "<b> Code in two boxes below help to ensure equality in [2], you can change the column and value parameters and check\n",
    "that the equality holds. </b>"
   ]
  },
  {
   "cell_type": "code",
   "execution_count": 15,
   "id": "c803cd89",
   "metadata": {},
   "outputs": [],
   "source": [
    "def get_indexes_of_sensitive_category(column,value):\n",
    "    indexes = sensitive_columns[sensitive_columns[column] == value]['artist_id'].values\n",
    "    return indexes\n",
    "\n",
    "def sum_score_index(indexes):\n",
    "    sumNationals = 0\n",
    "    for i in range(0, len(indexes)):\n",
    "        #print(indexes[i], ' ', rock_artists[ indexes[i] ])\n",
    "        sumNationals = sumNationals + rock_artists[ indexes[i] ]\n",
    "    return sumNationals"
   ]
  },
  {
   "cell_type": "code",
   "execution_count": 16,
   "id": "50a03db8",
   "metadata": {},
   "outputs": [],
   "source": [
    "indexes_man  = get_indexes_of_sensitive_category('gender','M')\n",
    "indexes_women = get_indexes_of_sensitive_category('gender','F')\n",
    "\n",
    "indexes_nationals = get_indexes_of_sensitive_category('nationality','national')\n",
    "indexes_foreigners = get_indexes_of_sensitive_category('nationality','foreign')"
   ]
  },
  {
   "cell_type": "code",
   "execution_count": 17,
   "id": "9056c093",
   "metadata": {},
   "outputs": [
    {
     "name": "stdout",
     "output_type": "stream",
     "text": [
      "[ 1  3  5  7  9 11 13 15 17 19]\n",
      "[ 2  4  6  8 10 12 14 16 18 20]\n",
      "[ 1  3  5  7  9 11 13 15 16 17 18 19 20]\n",
      "[ 2  4  6  8 10 12 14]\n"
     ]
    }
   ],
   "source": [
    "print ( indexes_man )\n",
    "print ( indexes_women )\n",
    "\n",
    "print( indexes_nationals )\n",
    "print ( indexes_foreigners )"
   ]
  },
  {
   "cell_type": "code",
   "execution_count": 18,
   "id": "323198aa",
   "metadata": {},
   "outputs": [
    {
     "name": "stdout",
     "output_type": "stream",
     "text": [
      "93\n",
      "57\n",
      "82\n",
      "68\n"
     ]
    }
   ],
   "source": [
    "sum_nationals = sum_score_index(indexes_nationals)\n",
    "sum_foreigners = sum_score_index(indexes_foreigners)\n",
    "\n",
    "sum_man = sum_score_index(indexes_man)\n",
    "sum_women = sum_score_index(indexes_women)\n",
    "\n",
    "print ( sum_nationals )\n",
    "print ( sum_foreigners)\n",
    "print ( sum_man)\n",
    "print ( sum_women)"
   ]
  },
  {
   "cell_type": "code",
   "execution_count": 19,
   "id": "9477980b",
   "metadata": {},
   "outputs": [
    {
     "data": {
      "text/plain": [
       "{'nationality': {'foreign': 57, 'national': 93}, 'gender': {'F': 68, 'M': 82}}"
      ]
     },
     "execution_count": 19,
     "metadata": {},
     "output_type": "execute_result"
    }
   ],
   "source": [
    "counters_sens_attributes"
   ]
  },
  {
   "cell_type": "code",
   "execution_count": 20,
   "id": "637ef15d",
   "metadata": {},
   "outputs": [],
   "source": [
    "scoring_gains_sorted = sorted([y for (x,y) in list( rock_artists.items() )])\n",
    "sensitives = []\n",
    "for k,sensitive in counters_sens_attributes.items():\n",
    "    sens_gain_sorted= sorted([y for (x,y) in list( sensitive.items() )])\n",
    "    sensitives.append(sens_gain_sorted)"
   ]
  },
  {
   "cell_type": "code",
   "execution_count": 21,
   "id": "80d4cb3f",
   "metadata": {},
   "outputs": [
    {
     "data": {
      "text/plain": [
       "[0, 1, 2, 2, 3, 4, 5, 5, 5, 5, 6, 7, 7, 10, 11, 11, 13, 13, 16, 24]"
      ]
     },
     "execution_count": 21,
     "metadata": {},
     "output_type": "execute_result"
    }
   ],
   "source": [
    "scoring_gains_sorted"
   ]
  },
  {
   "cell_type": "code",
   "execution_count": 22,
   "id": "da638392",
   "metadata": {},
   "outputs": [
    {
     "data": {
      "text/plain": [
       "0.4073333333333333"
      ]
     },
     "execution_count": 22,
     "metadata": {},
     "output_type": "execute_result"
    }
   ],
   "source": [
    "gini(np.array(scoring_gains_sorted))"
   ]
  },
  {
   "cell_type": "code",
   "execution_count": 23,
   "id": "f0a4a557",
   "metadata": {},
   "outputs": [],
   "source": [
    "gns = list(map(gini,np.array(sensitives)))"
   ]
  },
  {
   "cell_type": "code",
   "execution_count": 24,
   "id": "b01f7988",
   "metadata": {},
   "outputs": [
    {
     "data": {
      "text/plain": [
       "[[57, 93], [68, 82]]"
      ]
     },
     "execution_count": 24,
     "metadata": {},
     "output_type": "execute_result"
    }
   ],
   "source": [
    "sensitives"
   ]
  },
  {
   "cell_type": "code",
   "execution_count": 25,
   "id": "f4c4139e",
   "metadata": {},
   "outputs": [
    {
     "data": {
      "text/plain": [
       "[0.12, 0.04666666666666667]"
      ]
     },
     "execution_count": 25,
     "metadata": {},
     "output_type": "execute_result"
    }
   ],
   "source": [
    "gns"
   ]
  },
  {
   "cell_type": "code",
   "execution_count": 26,
   "id": "f2eb3c6f",
   "metadata": {},
   "outputs": [
    {
     "name": "stdout",
     "output_type": "stream",
     "text": [
      " sorted array  [(1, 0), (1, 1), (1, 2), (1, 2), (1, 3), (1, 4), (1, 5), (1, 5), (1, 5), (1, 5), (1, 6), (1, 7), (1, 7), (1, 10), (1, 11), (1, 11), (1, 13), (1, 13), (1, 16), (1, 24)]\n",
      " sorted array  [(1, 57), (1, 93)]\n",
      " sorted array  [(1, 68), (1, 82)]\n"
     ]
    }
   ],
   "source": [
    "lorentz_score_x,lorentz_score_y = lorentz_curve(np.repeat(1,20),scoring_gains_sorted)\n",
    "lorentz_gender_x,lorentz_gender_y = lorentz_curve(np.repeat(1,2),sensitives[0])\n",
    "lorentz_nation_x,lorentz_nation_y = lorentz_curve(np.repeat(1,2),sensitives[1])"
   ]
  },
  {
   "cell_type": "code",
   "execution_count": 28,
   "id": "38283843",
   "metadata": {},
   "outputs": [
    {
     "data": {
      "text/plain": [
       "<matplotlib.legend.Legend at 0x7f33bb602ed0>"
      ]
     },
     "execution_count": 28,
     "metadata": {},
     "output_type": "execute_result"
    },
    {
     "data": {
      "image/png": "[encoded data removed]",
      "text/plain": [
       "<Figure size 640x480 with 1 Axes>"
      ]
     },
     "metadata": {},
     "output_type": "display_data"
    }
   ],
   "source": [
    "pyplt.plot([0,1], [0,1])\n",
    "pyplt.plot(lorentz_score_x,lorentz_score_y)\n",
    "pyplt.plot(lorentz_gender_x,lorentz_gender_y)\n",
    "pyplt.plot(lorentz_nation_x,lorentz_nation_y)\n",
    "pyplt.legend(['Perfect Equality','Candidate','Gender', 'Nationality'])"
   ]
  },
  {
   "cell_type": "code",
   "execution_count": null,
   "id": "9e91c4a8",
   "metadata": {},
   "outputs": [],
   "source": []
  }
 ],
 "metadata": {
  "kernelspec": {
   "display_name": "Python 3 (ipykernel)",
   "language": "python",
   "name": "python3"
  },
  "language_info": {
   "codemirror_mode": {
    "name": "ipython",
    "version": 3
   },
   "file_extension": ".py",
   "mimetype": "text/x-python",
   "name": "python",
   "nbconvert_exporter": "python",
   "pygments_lexer": "ipython3",
   "version": "3.11.5"
  }
 },
 "nbformat": 4,
 "nbformat_minor": 5
}
